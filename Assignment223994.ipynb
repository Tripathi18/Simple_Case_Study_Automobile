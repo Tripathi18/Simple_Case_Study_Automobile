{
  "cells": [
    {
      "cell_type": "markdown",
      "source": [
        "**Importing Libraries**"
      ],
      "metadata": {
        "id": "kNN3yrLgdjQw"
      }
    },
    {
      "cell_type": "code",
      "source": [
        "#importing useful libraries\n",
        "import pandas as pd\n",
        "import numpy as np\n",
        "from sklearn.model_selection import train_test_split\n",
        "from sklearn.linear_model import LinearRegression\n",
        "from sklearn.metrics import mean_squared_error, r2_score"
      ],
      "metadata": {
        "id": "ztXnx0VHcVIC"
      },
      "execution_count": null,
      "outputs": []
    },
    {
      "cell_type": "markdown",
      "source": [
        "**Solution 1:**"
      ],
      "metadata": {
        "id": "Uv--AgI6cC79"
      }
    },
    {
      "cell_type": "code",
      "source": [
        "#load dataset(given in '.csv' form)\n",
        "df = pd.read_csv('/content/automobile.csv')\n",
        "\n",
        "#repalcing the '?' value with 'NAN' value\n",
        "df.replace('?', np.nan, inplace=True)\n",
        "\n"
      ],
      "metadata": {
        "id": "4hqqzoaKOYRS"
      },
      "execution_count": null,
      "outputs": []
    },
    {
      "cell_type": "markdown",
      "source": [
        "**Solution 2:**"
      ],
      "metadata": {
        "id": "IvOvfQljccq8"
      }
    },
    {
      "cell_type": "code",
      "source": [
        "#checking the missing values datatypes\n",
        "columns_missing_value = df.columns[df.isnull().any()]\n",
        "missing_columns_datatypes = df[columns_missing_value].dtypes\n",
        "print(\"Data types of columns with missing values:\")\n",
        "print(missing_columns_datatypes)\n"
      ],
      "metadata": {
        "colab": {
          "base_uri": "https://localhost:8080/"
        },
        "id": "Cl4twuTFPIcz",
        "outputId": "d131e7d4-a928-4560-b8b4-3e7292128568"
      },
      "execution_count": null,
      "outputs": [
        {
          "output_type": "stream",
          "name": "stdout",
          "text": [
            "Data types of columns with missing values:\n",
            "normalized-losses    object\n",
            "num-of-doors         object\n",
            "bore                 object\n",
            "stroke               object\n",
            "horsepower           object\n",
            "peak-rpm             object\n",
            "price                object\n",
            "dtype: object\n"
          ]
        }
      ]
    },
    {
      "cell_type": "markdown",
      "source": [
        "Not need any data type conversions as all the column with missing values are of same datatpye."
      ],
      "metadata": {
        "id": "_TTvzlOTgw_x"
      }
    },
    {
      "cell_type": "code",
      "source": [
        "# Handling the missing values\n",
        "numeric_columns = df.select_dtypes(include=np.number).columns\n",
        "for x in numeric_columns:\n",
        "    medians = df[x].median()\n",
        "    df[x].fillna(medians, inplace=True)\n",
        "\n",
        "category_columns = df.select_dtypes(exclude=np.number).columns\n",
        "for y in category_columns:\n",
        "    modes = df[y].mode().values[0]\n",
        "    df[y].fillna(modes, inplace=True)\n"
      ],
      "metadata": {
        "id": "3bszLlsOTiG8"
      },
      "execution_count": null,
      "outputs": []
    },
    {
      "cell_type": "code",
      "source": [
        "# Verify if all missing values have been filled\n",
        "missed_values = df.isnull().sum().sum()\n",
        "print(\"Number of missing values after handling: \", missed_values)"
      ],
      "metadata": {
        "colab": {
          "base_uri": "https://localhost:8080/"
        },
        "id": "x9VYbAvnTnHl",
        "outputId": "a583ebd2-f223-4ac4-f3fb-36c54ba87af4"
      },
      "execution_count": null,
      "outputs": [
        {
          "output_type": "stream",
          "name": "stdout",
          "text": [
            "Number of missing values after handling:  0\n"
          ]
        }
      ]
    },
    {
      "cell_type": "markdown",
      "source": [
        "After resolving the missing values, saving the dataset as new **\"csv\"** file."
      ],
      "metadata": {
        "id": "1Q37D4n_hKRz"
      }
    },
    {
      "cell_type": "code",
      "source": [
        "# Save the cleaned dataset and creating new csv file\n",
        "df.to_csv('new_automobile.csv', index=False)"
      ],
      "metadata": {
        "id": "fatv4z8OTsLG"
      },
      "execution_count": null,
      "outputs": []
    },
    {
      "cell_type": "markdown",
      "source": [
        "**Solution 3:**"
      ],
      "metadata": {
        "id": "CxGIg74pcnhU"
      }
    },
    {
      "cell_type": "code",
      "source": [
        "#loading new dataset file for predictions\n",
        "new_data = pd.read_csv('/content/new_automobile.csv')\n",
        "\n",
        "# Calculate the correlation matrix\n",
        "correlation_matrix = new_data.corr()"
      ],
      "metadata": {
        "colab": {
          "base_uri": "https://localhost:8080/"
        },
        "id": "VKPU0D99QHAz",
        "outputId": "26110bf8-e885-434c-c0f9-3574a9319874"
      },
      "execution_count": null,
      "outputs": [
        {
          "output_type": "stream",
          "name": "stderr",
          "text": [
            "<ipython-input-7-de8a9470587c>:5: FutureWarning: The default value of numeric_only in DataFrame.corr is deprecated. In a future version, it will default to False. Select only valid columns or specify the value of numeric_only to silence this warning.\n",
            "  correlation_matrix = new_data.corr()\n"
          ]
        }
      ]
    },
    {
      "cell_type": "code",
      "source": [
        "# Find the features with strong correlation to 'Price'\n",
        "correlation_feature_cf = correlation_matrix['price'].sort_values(ascending=False)\n",
        "\n",
        "# Print the correlated features\n",
        "print(\"Correlated features to 'Price':\")\n",
        "print(correlation_feature_cf)"
      ],
      "metadata": {
        "colab": {
          "base_uri": "https://localhost:8080/"
        },
        "id": "wLU7GScpS2L-",
        "outputId": "8267e878-a22b-4d6f-9f3d-469bd97c8474"
      },
      "execution_count": null,
      "outputs": [
        {
          "output_type": "stream",
          "name": "stdout",
          "text": [
            "Correlated features to 'Price':\n",
            "price                1.000000\n",
            "engine-size          0.861769\n",
            "curb-weight          0.820807\n",
            "horsepower           0.759731\n",
            "width                0.729009\n",
            "length               0.682528\n",
            "wheel-base           0.582915\n",
            "bore                 0.525878\n",
            "normalized-losses    0.317097\n",
            "height               0.133761\n",
            "stroke               0.081537\n",
            "compression-ratio    0.070789\n",
            "symboling           -0.082396\n",
            "peak-rpm            -0.103493\n",
            "Unnamed: 0          -0.117108\n",
            "city-mpg            -0.667215\n",
            "highway-mpg         -0.690173\n",
            "Name: price, dtype: float64\n"
          ]
        }
      ]
    },
    {
      "cell_type": "markdown",
      "source": [
        "**Solution 4:**\n",
        "\n",
        "Use engine-size as independent variable"
      ],
      "metadata": {
        "id": "M66dkM4acvFn"
      }
    },
    {
      "cell_type": "code",
      "source": [
        "# Select the independent variable and the target variable\n",
        "independent_variable = 'engine-size'\n",
        "target_variable = 'price'"
      ],
      "metadata": {
        "id": "cviz2qGhS9Fw"
      },
      "execution_count": null,
      "outputs": []
    },
    {
      "cell_type": "code",
      "source": [
        "# Split the data into training and testing sets\n",
        "A_train, A_test, B_train, B_test = train_test_split(new_data[independent_variable], new_data[target_variable], test_size=0.3, random_state=40)\n",
        "\n",
        "# Reshape the data to match the expected input shape of the model\n",
        "A_train = A_train.values.reshape(-1, 1)\n",
        "A_test = A_test.values.reshape(-1, 1)"
      ],
      "metadata": {
        "id": "ZUpMtq4SVXSn"
      },
      "execution_count": null,
      "outputs": []
    },
    {
      "cell_type": "code",
      "source": [
        "# Initialize and train the linear regression model\n",
        "model_1 = LinearRegression()\n",
        "model_1.fit(A_train, B_train)\n",
        "\n",
        "# Make predictions on the testing set\n",
        "y_pred = model_1.predict(A_test)"
      ],
      "metadata": {
        "id": "OaXf1RrSVa5m"
      },
      "execution_count": null,
      "outputs": []
    },
    {
      "cell_type": "code",
      "source": [
        "# Evaluate the model's performance\n",
        "mse_1 = mean_squared_error(B_test, y_pred)\n",
        "rmse_1 = mean_squared_error(B_test, y_pred, squared=False)\n",
        "r2_1 = r2_score(B_test, y_pred)"
      ],
      "metadata": {
        "id": "bcY4mMClVemx"
      },
      "execution_count": null,
      "outputs": []
    },
    {
      "cell_type": "markdown",
      "source": [
        "Results of solution 4 after bulding model."
      ],
      "metadata": {
        "id": "BIjeVP65c9z2"
      }
    },
    {
      "cell_type": "code",
      "source": [
        "# Print the evaluation metrics\n",
        "print(\"Mean Squared Error (MSE):\", mse_1)\n",
        "print(\"Root Mean Squared Error (RMSE):\", rmse_1)\n",
        "print(\"R-squared (R2):\", r2_1)"
      ],
      "metadata": {
        "colab": {
          "base_uri": "https://localhost:8080/"
        },
        "id": "VPgTNeNBVhJr",
        "outputId": "72d26d57-af8c-459f-833d-50a6b6dad391"
      },
      "execution_count": null,
      "outputs": [
        {
          "output_type": "stream",
          "name": "stdout",
          "text": [
            "Mean Squared Error (MSE): 9683687.279391937\n",
            "Root Mean Squared Error (RMSE): 3111.862349043083\n",
            "R-squared (R2): 0.615672224689068\n"
          ]
        }
      ]
    },
    {
      "cell_type": "markdown",
      "source": [
        "**Solution 5:**\n",
        "\n",
        "Use horsepower as independent variable"
      ],
      "metadata": {
        "id": "yK5j-j7ldH9V"
      }
    },
    {
      "cell_type": "code",
      "source": [
        "# Select the independent variable and the target variable\n",
        "independent_variable = 'horsepower'\n",
        "target_variable = 'price'"
      ],
      "metadata": {
        "id": "1PxNTdgNZ0UV"
      },
      "execution_count": null,
      "outputs": []
    },
    {
      "cell_type": "code",
      "source": [
        "# Split the data into training and testing sets\n",
        "A1_train, A1_test, B1_train, B1_test = train_test_split(new_data[independent_variable], new_data[target_variable], test_size=0.3, random_state=40)\n",
        "\n",
        "# Reshape the data to match the expected input shape of the model\n",
        "A1_train = A1_train.values.reshape(-1, 1)\n",
        "A1_test = A1_test.values.reshape(-1, 1)\n",
        "\n",
        "# Initialize and train the linear regression model\n",
        "model_2 = LinearRegression()\n",
        "model_2.fit(A1_train, B1_train)\n",
        "\n",
        "# Make predictions on the testing set\n",
        "y_pred = model_2.predict(A1_test)\n",
        "\n",
        "# Evaluate the model's performance\n",
        "mse = mean_squared_error(B1_test, y_pred)\n",
        "rmse = mean_squared_error(B1_test, y_pred, squared=False)\n",
        "r2 = r2_score(B1_test, y_pred)\n"
      ],
      "metadata": {
        "id": "-V5klsY4aCKH"
      },
      "execution_count": null,
      "outputs": []
    },
    {
      "cell_type": "markdown",
      "source": [
        "Results of solution 5"
      ],
      "metadata": {
        "id": "IZhQkiBrdc4b"
      }
    },
    {
      "cell_type": "code",
      "source": [
        "# Print the evaluation metrics\n",
        "print(\"Mean Squared Error (MSE):\", mse)\n",
        "print(\"Root Mean Squared Error (RMSE):\", rmse)\n",
        "print(\"R-squared (R2):\", r2)"
      ],
      "metadata": {
        "colab": {
          "base_uri": "https://localhost:8080/"
        },
        "id": "wgfG0OubaFhO",
        "outputId": "248cef4f-f377-41c1-956b-a52fd2851d62"
      },
      "execution_count": null,
      "outputs": [
        {
          "output_type": "stream",
          "name": "stdout",
          "text": [
            "Mean Squared Error (MSE): 29897790.25119074\n",
            "Root Mean Squared Error (RMSE): 5467.887183473224\n",
            "R-squared (R2): -0.18658842261524633\n"
          ]
        }
      ]
    }
  ],
  "metadata": {
    "colab": {
      "provenance": []
    },
    "kernelspec": {
      "display_name": "Python 3",
      "name": "python3"
    }
  },
  "nbformat": 4,
  "nbformat_minor": 0
}